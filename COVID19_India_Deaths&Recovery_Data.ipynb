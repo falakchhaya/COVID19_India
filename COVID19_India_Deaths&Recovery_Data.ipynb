{
  "nbformat": 4,
  "nbformat_minor": 0,
  "metadata": {
    "colab": {
      "name": "COVID19_India_Deaths&Recovery_Data.ipynb",
      "provenance": [],
      "collapsed_sections": [],
      "authorship_tag": "ABX9TyNrgaAi19cl+FbP39Sxt9MW",
      "include_colab_link": true
    },
    "kernelspec": {
      "name": "python3",
      "display_name": "Python 3"
    }
  },
  "cells": [
    {
      "cell_type": "markdown",
      "metadata": {
        "id": "view-in-github",
        "colab_type": "text"
      },
      "source": [
        "<a href=\"https://colab.research.google.com/github/falakchhaya/COVID19_India/blob/master/COVID19_India_Deaths%26Recovery_Data.ipynb\" target=\"_parent\"><img src=\"https://colab.research.google.com/assets/colab-badge.svg\" alt=\"Open In Colab\"/></a>"
      ]
    },
    {
      "cell_type": "markdown",
      "metadata": {
        "id": "iBKz9rZ4i5Gl",
        "colab_type": "text"
      },
      "source": [
        "#Steps\n",
        "\n",
        "(1) import the libraries.\n",
        "\n",
        "(2) Get the json data from api. Normalize it and if it's a nested dictionary, use the necessary arguments. Output of this should be a proper pandas dataframe.\n",
        "\n",
        "(3) Start inspecting the data. shape, info(), describe(), head(), (df.isna()).sum etc. \n",
        "\n",
        "--> df.shape : Tells you your matrix size. How many features and instances.<br>\n",
        "--> df.info() : Very insightfull. Gives you all the columns, corresponding data types, non-null values in each of them and memory usage. <br>\n",
        "--> df.head() : Shows you initial small part of the df.\n",
        "<br><br>\n",
        "df.info() and df.head() together should be used to decide if datatype of any columns should be changed or not. Typically quite a few should be changed from 'object' to 'int64'/'float64'/'category'.\n",
        "\n",
        "(4) Missing data isn't always in the form of NaN/Null. It might be a blank space or a hyphen('-') or who knows what ! So df.isna() might not help. That's when following commands may help\n",
        "\n",
        "--> pd.unique(df.column)  <br>\n",
        "--> df.column.value_counts() <br>\n",
        "--> df.column.value_counts()[value] <br>\n",
        "--> df.column.value_counts()(normalize=True) <br>\n",
        "\n",
        "Alternatively, you may write a for loop and iterate over column names and get all value_counts() to get a wholesome picture.\n",
        "<br><br><br>\n",
        "In this particular case, I took COVID data for deaths and recoveries for India and found that most of the important values were missing \n",
        "i.e. 90% of Age is missing. Similar is the case with Cities, gender, cities, districts\n",
        "\n",
        "\n",
        "State, Statecode, patientStatus and to an extent Date are the only reasonable columns. Not much insight can be drawn from this it seems, except <br>\n",
        "\n",
        "--> Number of death in each state\n",
        "--> deaths with timeline (though we don't have dates for a few)\n",
        "--> if we join this with number of cases per state along with timeline, we might get deaths per cases ratio per state.\n"
      ]
    },
    {
      "cell_type": "code",
      "metadata": {
        "id": "RqbeJvuIqaES",
        "colab_type": "code",
        "colab": {}
      },
      "source": [
        "#Let's use the api instead\n",
        "#first let's import stuff\n",
        "\n",
        "import numpy as np\n",
        "import pandas as pd\n",
        "import requests\n",
        "import json\n",
        "from pandas import json_normalize\n",
        "import matplotlib.pyplot as plt"
      ],
      "execution_count": 0,
      "outputs": []
    },
    {
      "cell_type": "code",
      "metadata": {
        "id": "1ALL4p7QMwiB",
        "colab_type": "code",
        "colab": {}
      },
      "source": [
        "url = 'https://api.covid19india.org/deaths_recoveries.json'\n",
        "\n",
        "JSONContent = requests.get(url).json()\n",
        "#content = json.dumps(JSONContent, indent = 4, sort_keys=True)  #, indent = 4\n",
        "#help(json.dumps)\n",
        "#print(content)"
      ],
      "execution_count": 0,
      "outputs": []
    },
    {
      "cell_type": "code",
      "metadata": {
        "id": "Iz4-Qw2xNC-5",
        "colab_type": "code",
        "outputId": "ff1f7b47-c883-4985-f668-c4669258bdcf",
        "colab": {
          "base_uri": "https://localhost:8080/",
          "height": 34
        }
      },
      "source": [
        "type(JSONContent)"
      ],
      "execution_count": 18,
      "outputs": [
        {
          "output_type": "execute_result",
          "data": {
            "text/plain": [
              "dict"
            ]
          },
          "metadata": {
            "tags": []
          },
          "execution_count": 18
        }
      ]
    },
    {
      "cell_type": "code",
      "metadata": {
        "id": "UPQ2NZq1NIyY",
        "colab_type": "code",
        "colab": {}
      },
      "source": [
        "# Let's see if normalization works well\n",
        "nested_full = json_normalize(JSONContent)"
      ],
      "execution_count": 0,
      "outputs": []
    },
    {
      "cell_type": "code",
      "metadata": {
        "id": "p9t5VCAWPNZ1",
        "colab_type": "code",
        "outputId": "bef73b7c-f8f9-4423-fc47-b15bd7ff6c3f",
        "colab": {
          "base_uri": "https://localhost:8080/",
          "height": 80
        }
      },
      "source": [
        "nested_full.shape\n",
        "nested_full.head()\n",
        "\n",
        "#It seems the data has become completely flat, we'll have to use \"record_path\" ..."
      ],
      "execution_count": 22,
      "outputs": [
        {
          "output_type": "execute_result",
          "data": {
            "text/html": [
              "<div>\n",
              "<style scoped>\n",
              "    .dataframe tbody tr th:only-of-type {\n",
              "        vertical-align: middle;\n",
              "    }\n",
              "\n",
              "    .dataframe tbody tr th {\n",
              "        vertical-align: top;\n",
              "    }\n",
              "\n",
              "    .dataframe thead th {\n",
              "        text-align: right;\n",
              "    }\n",
              "</style>\n",
              "<table border=\"1\" class=\"dataframe\">\n",
              "  <thead>\n",
              "    <tr style=\"text-align: right;\">\n",
              "      <th></th>\n",
              "      <th>deaths_recoveries</th>\n",
              "    </tr>\n",
              "  </thead>\n",
              "  <tbody>\n",
              "    <tr>\n",
              "      <th>0</th>\n",
              "      <td>[{'agebracket': '85', 'city': 'Mumbai', 'date'...</td>\n",
              "    </tr>\n",
              "  </tbody>\n",
              "</table>\n",
              "</div>"
            ],
            "text/plain": [
              "                                   deaths_recoveries\n",
              "0  [{'agebracket': '85', 'city': 'Mumbai', 'date'..."
            ]
          },
          "metadata": {
            "tags": []
          },
          "execution_count": 22
        }
      ]
    },
    {
      "cell_type": "code",
      "metadata": {
        "id": "tnCQISiaPPcT",
        "colab_type": "code",
        "colab": {}
      },
      "source": [
        "nested_full = json_normalize(JSONContent,record_path='deaths_recoveries')"
      ],
      "execution_count": 0,
      "outputs": []
    },
    {
      "cell_type": "code",
      "metadata": {
        "id": "MyRQJiwDib0C",
        "colab_type": "code",
        "outputId": "1547f091-53f0-4ec6-c623-6c0386535d36",
        "colab": {
          "base_uri": "https://localhost:8080/",
          "height": 411
        }
      },
      "source": [
        "nested_full.head()  # Now that sees alright."
      ],
      "execution_count": 25,
      "outputs": [
        {
          "output_type": "execute_result",
          "data": {
            "text/html": [
              "<div>\n",
              "<style scoped>\n",
              "    .dataframe tbody tr th:only-of-type {\n",
              "        vertical-align: middle;\n",
              "    }\n",
              "\n",
              "    .dataframe tbody tr th {\n",
              "        vertical-align: top;\n",
              "    }\n",
              "\n",
              "    .dataframe thead th {\n",
              "        text-align: right;\n",
              "    }\n",
              "</style>\n",
              "<table border=\"1\" class=\"dataframe\">\n",
              "  <thead>\n",
              "    <tr style=\"text-align: right;\">\n",
              "      <th></th>\n",
              "      <th>agebracket</th>\n",
              "      <th>city</th>\n",
              "      <th>date</th>\n",
              "      <th>district</th>\n",
              "      <th>gender</th>\n",
              "      <th>nationality</th>\n",
              "      <th>notes</th>\n",
              "      <th>patientnumbercouldbemappedlater</th>\n",
              "      <th>patientstatus</th>\n",
              "      <th>slno</th>\n",
              "      <th>source1</th>\n",
              "      <th>source2</th>\n",
              "      <th>source3</th>\n",
              "      <th>state</th>\n",
              "      <th>statecode</th>\n",
              "    </tr>\n",
              "  </thead>\n",
              "  <tbody>\n",
              "    <tr>\n",
              "      <th>0</th>\n",
              "      <td>85</td>\n",
              "      <td>Mumbai</td>\n",
              "      <td>29/03/2020</td>\n",
              "      <td>Mumbai</td>\n",
              "      <td>M</td>\n",
              "      <td></td>\n",
              "      <td>Suffering from Diabetes, had a pacemaker, no t...</td>\n",
              "      <td></td>\n",
              "      <td>Deceased</td>\n",
              "      <td>1</td>\n",
              "      <td>https://arogya.maharashtra.gov.in/pdf/epressno...</td>\n",
              "      <td>https://www.deccanherald.com/national/west/dea...</td>\n",
              "      <td></td>\n",
              "      <td>Maharashtra</td>\n",
              "      <td>MH</td>\n",
              "    </tr>\n",
              "    <tr>\n",
              "      <th>1</th>\n",
              "      <td>80</td>\n",
              "      <td>Mumbai</td>\n",
              "      <td>29/03/2020</td>\n",
              "      <td>Mumbai</td>\n",
              "      <td>M</td>\n",
              "      <td></td>\n",
              "      <td>patient passed away at the Fortis Hospital, Mu...</td>\n",
              "      <td></td>\n",
              "      <td>Deceased</td>\n",
              "      <td>2</td>\n",
              "      <td>https://arogya.maharashtra.gov.in/pdf/epressno...</td>\n",
              "      <td>https://www.indiatoday.in/india/story/coronavi...</td>\n",
              "      <td></td>\n",
              "      <td>Maharashtra</td>\n",
              "      <td>MH</td>\n",
              "    </tr>\n",
              "    <tr>\n",
              "      <th>2</th>\n",
              "      <td>86</td>\n",
              "      <td>Ghatkopar</td>\n",
              "      <td>29/03/2020</td>\n",
              "      <td>Mumbai Suburban</td>\n",
              "      <td>F</td>\n",
              "      <td></td>\n",
              "      <td></td>\n",
              "      <td></td>\n",
              "      <td>Deceased</td>\n",
              "      <td>3</td>\n",
              "      <td>https://arogya.maharashtra.gov.in/pdf/epressno...</td>\n",
              "      <td></td>\n",
              "      <td></td>\n",
              "      <td>Maharashtra</td>\n",
              "      <td>MH</td>\n",
              "    </tr>\n",
              "    <tr>\n",
              "      <th>3</th>\n",
              "      <td></td>\n",
              "      <td></td>\n",
              "      <td>29/03/2020</td>\n",
              "      <td>Mumbai</td>\n",
              "      <td></td>\n",
              "      <td></td>\n",
              "      <td></td>\n",
              "      <td></td>\n",
              "      <td>Deceased</td>\n",
              "      <td>4</td>\n",
              "      <td>https://arogya.maharashtra.gov.in/pdf/epressno...</td>\n",
              "      <td></td>\n",
              "      <td></td>\n",
              "      <td>Maharashtra</td>\n",
              "      <td>MH</td>\n",
              "    </tr>\n",
              "    <tr>\n",
              "      <th>4</th>\n",
              "      <td></td>\n",
              "      <td></td>\n",
              "      <td>29/03/2020</td>\n",
              "      <td>Mumbai</td>\n",
              "      <td></td>\n",
              "      <td></td>\n",
              "      <td></td>\n",
              "      <td></td>\n",
              "      <td>Deceased</td>\n",
              "      <td>5</td>\n",
              "      <td>https://arogya.maharashtra.gov.in/pdf/epressno...</td>\n",
              "      <td></td>\n",
              "      <td></td>\n",
              "      <td>Maharashtra</td>\n",
              "      <td>MH</td>\n",
              "    </tr>\n",
              "  </tbody>\n",
              "</table>\n",
              "</div>"
            ],
            "text/plain": [
              "  agebracket       city        date  ... source3        state statecode\n",
              "0         85     Mumbai  29/03/2020  ...          Maharashtra        MH\n",
              "1         80     Mumbai  29/03/2020  ...          Maharashtra        MH\n",
              "2         86  Ghatkopar  29/03/2020  ...          Maharashtra        MH\n",
              "3                        29/03/2020  ...          Maharashtra        MH\n",
              "4                        29/03/2020  ...          Maharashtra        MH\n",
              "\n",
              "[5 rows x 15 columns]"
            ]
          },
          "metadata": {
            "tags": []
          },
          "execution_count": 25
        }
      ]
    },
    {
      "cell_type": "code",
      "metadata": {
        "id": "1iaPnq3wis2t",
        "colab_type": "code",
        "colab": {
          "base_uri": "https://localhost:8080/",
          "height": 210
        },
        "outputId": "99956910-abdd-49c3-cdf7-e0fa1cbc6e91"
      },
      "source": [
        "print(nested_full.shape)\n",
        "nested_full.describe()"
      ],
      "execution_count": 26,
      "outputs": [
        {
          "output_type": "stream",
          "text": [
            "(2416, 15)\n"
          ],
          "name": "stdout"
        },
        {
          "output_type": "execute_result",
          "data": {
            "text/html": [
              "<div>\n",
              "<style scoped>\n",
              "    .dataframe tbody tr th:only-of-type {\n",
              "        vertical-align: middle;\n",
              "    }\n",
              "\n",
              "    .dataframe tbody tr th {\n",
              "        vertical-align: top;\n",
              "    }\n",
              "\n",
              "    .dataframe thead th {\n",
              "        text-align: right;\n",
              "    }\n",
              "</style>\n",
              "<table border=\"1\" class=\"dataframe\">\n",
              "  <thead>\n",
              "    <tr style=\"text-align: right;\">\n",
              "      <th></th>\n",
              "      <th>agebracket</th>\n",
              "      <th>city</th>\n",
              "      <th>date</th>\n",
              "      <th>district</th>\n",
              "      <th>gender</th>\n",
              "      <th>nationality</th>\n",
              "      <th>notes</th>\n",
              "      <th>patientnumbercouldbemappedlater</th>\n",
              "      <th>patientstatus</th>\n",
              "      <th>slno</th>\n",
              "      <th>source1</th>\n",
              "      <th>source2</th>\n",
              "      <th>source3</th>\n",
              "      <th>state</th>\n",
              "      <th>statecode</th>\n",
              "    </tr>\n",
              "  </thead>\n",
              "  <tbody>\n",
              "    <tr>\n",
              "      <th>count</th>\n",
              "      <td>2416</td>\n",
              "      <td>2416</td>\n",
              "      <td>2416</td>\n",
              "      <td>2416</td>\n",
              "      <td>2416</td>\n",
              "      <td>2416</td>\n",
              "      <td>2416</td>\n",
              "      <td>2416</td>\n",
              "      <td>2416</td>\n",
              "      <td>2416</td>\n",
              "      <td>2416</td>\n",
              "      <td>2416</td>\n",
              "      <td>2416</td>\n",
              "      <td>2416</td>\n",
              "      <td>2416</td>\n",
              "    </tr>\n",
              "    <tr>\n",
              "      <th>unique</th>\n",
              "      <td>66</td>\n",
              "      <td>55</td>\n",
              "      <td>26</td>\n",
              "      <td>147</td>\n",
              "      <td>3</td>\n",
              "      <td>3</td>\n",
              "      <td>277</td>\n",
              "      <td>61</td>\n",
              "      <td>3</td>\n",
              "      <td>2416</td>\n",
              "      <td>349</td>\n",
              "      <td>90</td>\n",
              "      <td>11</td>\n",
              "      <td>32</td>\n",
              "      <td>32</td>\n",
              "    </tr>\n",
              "    <tr>\n",
              "      <th>top</th>\n",
              "      <td></td>\n",
              "      <td></td>\n",
              "      <td>16/04/2020</td>\n",
              "      <td></td>\n",
              "      <td></td>\n",
              "      <td></td>\n",
              "      <td></td>\n",
              "      <td></td>\n",
              "      <td>Recovered</td>\n",
              "      <td>1780</td>\n",
              "      <td></td>\n",
              "      <td></td>\n",
              "      <td></td>\n",
              "      <td>Maharashtra</td>\n",
              "      <td>MH</td>\n",
              "    </tr>\n",
              "    <tr>\n",
              "      <th>freq</th>\n",
              "      <td>2166</td>\n",
              "      <td>2289</td>\n",
              "      <td>285</td>\n",
              "      <td>1596</td>\n",
              "      <td>2158</td>\n",
              "      <td>2400</td>\n",
              "      <td>1678</td>\n",
              "      <td>2356</td>\n",
              "      <td>1955</td>\n",
              "      <td>1</td>\n",
              "      <td>409</td>\n",
              "      <td>2218</td>\n",
              "      <td>2401</td>\n",
              "      <td>494</td>\n",
              "      <td>493</td>\n",
              "    </tr>\n",
              "  </tbody>\n",
              "</table>\n",
              "</div>"
            ],
            "text/plain": [
              "       agebracket  city        date  ... source3        state statecode\n",
              "count        2416  2416        2416  ...    2416         2416      2416\n",
              "unique         66    55          26  ...      11           32        32\n",
              "top                      16/04/2020  ...          Maharashtra        MH\n",
              "freq         2166  2289         285  ...    2401          494       493\n",
              "\n",
              "[4 rows x 15 columns]"
            ]
          },
          "metadata": {
            "tags": []
          },
          "execution_count": 26
        }
      ]
    },
    {
      "cell_type": "code",
      "metadata": {
        "id": "L0BRxqFQGJ7h",
        "colab_type": "code",
        "colab": {
          "base_uri": "https://localhost:8080/",
          "height": 391
        },
        "outputId": "2b5d603e-b757-400e-8570-6a0515056eba"
      },
      "source": [
        "nested_full.info()"
      ],
      "execution_count": 27,
      "outputs": [
        {
          "output_type": "stream",
          "text": [
            "<class 'pandas.core.frame.DataFrame'>\n",
            "RangeIndex: 2416 entries, 0 to 2415\n",
            "Data columns (total 15 columns):\n",
            " #   Column                           Non-Null Count  Dtype \n",
            "---  ------                           --------------  ----- \n",
            " 0   agebracket                       2416 non-null   object\n",
            " 1   city                             2416 non-null   object\n",
            " 2   date                             2416 non-null   object\n",
            " 3   district                         2416 non-null   object\n",
            " 4   gender                           2416 non-null   object\n",
            " 5   nationality                      2416 non-null   object\n",
            " 6   notes                            2416 non-null   object\n",
            " 7   patientnumbercouldbemappedlater  2416 non-null   object\n",
            " 8   patientstatus                    2416 non-null   object\n",
            " 9   slno                             2416 non-null   object\n",
            " 10  source1                          2416 non-null   object\n",
            " 11  source2                          2416 non-null   object\n",
            " 12  source3                          2416 non-null   object\n",
            " 13  state                            2416 non-null   object\n",
            " 14  statecode                        2416 non-null   object\n",
            "dtypes: object(15)\n",
            "memory usage: 283.2+ KB\n"
          ],
          "name": "stdout"
        }
      ]
    },
    {
      "cell_type": "code",
      "metadata": {
        "id": "b_puZcrPGMhx",
        "colab_type": "code",
        "colab": {
          "base_uri": "https://localhost:8080/",
          "height": 85
        },
        "outputId": "4d8d795e-47a6-4eb6-952c-d9456c73b6cc"
      },
      "source": [
        "# So all the data types are of the type object. Clearly we need to fix this.\n",
        "\n",
        "# One of the proposed solution of Geeksforgeeks, but sadly didn't work.\n",
        "# nested_full = nested_full.infer_objects()\n",
        "# print(nested_full.dtypes)\n",
        "\n",
        "\n",
        "# Here is another proposed solution\n",
        "nested_full.columns"
      ],
      "execution_count": 28,
      "outputs": [
        {
          "output_type": "execute_result",
          "data": {
            "text/plain": [
              "Index(['agebracket', 'city', 'date', 'district', 'gender', 'nationality',\n",
              "       'notes', 'patientnumbercouldbemappedlater', 'patientstatus', 'slno',\n",
              "       'source1', 'source2', 'source3', 'state', 'statecode'],\n",
              "      dtype='object')"
            ]
          },
          "metadata": {
            "tags": []
          },
          "execution_count": 28
        }
      ]
    },
    {
      "cell_type": "code",
      "metadata": {
        "id": "1C2RFPWVG1tL",
        "colab_type": "code",
        "colab": {}
      },
      "source": [
        "# model line\n",
        "# nested_full.city = nested_full.city.astype('category')\n",
        "# you can also make a list out for similar ones and change their datatypes together, like shown below.\n",
        "\n",
        "nested_full[['city', 'district','gender','nationality', 'patientstatus','state','statecode']] = nested_full[['city', 'district','gender','nationality', 'patientstatus','state','statecode']].astype('category')"
      ],
      "execution_count": 0,
      "outputs": []
    },
    {
      "cell_type": "code",
      "metadata": {
        "id": "Gy6NNPuWL6_N",
        "colab_type": "code",
        "colab": {
          "base_uri": "https://localhost:8080/",
          "height": 391
        },
        "outputId": "89df2609-d26c-4147-a24f-0ca87b7b8136"
      },
      "source": [
        "nested_full.info()"
      ],
      "execution_count": 30,
      "outputs": [
        {
          "output_type": "stream",
          "text": [
            "<class 'pandas.core.frame.DataFrame'>\n",
            "RangeIndex: 2416 entries, 0 to 2415\n",
            "Data columns (total 15 columns):\n",
            " #   Column                           Non-Null Count  Dtype   \n",
            "---  ------                           --------------  -----   \n",
            " 0   agebracket                       2416 non-null   object  \n",
            " 1   city                             2416 non-null   category\n",
            " 2   date                             2416 non-null   object  \n",
            " 3   district                         2416 non-null   category\n",
            " 4   gender                           2416 non-null   category\n",
            " 5   nationality                      2416 non-null   category\n",
            " 6   notes                            2416 non-null   object  \n",
            " 7   patientnumbercouldbemappedlater  2416 non-null   object  \n",
            " 8   patientstatus                    2416 non-null   category\n",
            " 9   slno                             2416 non-null   object  \n",
            " 10  source1                          2416 non-null   object  \n",
            " 11  source2                          2416 non-null   object  \n",
            " 12  source3                          2416 non-null   object  \n",
            " 13  state                            2416 non-null   category\n",
            " 14  statecode                        2416 non-null   category\n",
            "dtypes: category(7), object(8)\n",
            "memory usage: 182.4+ KB\n"
          ],
          "name": "stdout"
        }
      ]
    },
    {
      "cell_type": "code",
      "metadata": {
        "id": "nj9wUqBVMvbu",
        "colab_type": "code",
        "colab": {
          "base_uri": "https://localhost:8080/",
          "height": 136
        },
        "outputId": "19cd4913-b9d9-44f1-c4c6-9669367ccfe9"
      },
      "source": [
        "pd.unique(nested_full.agebracket)"
      ],
      "execution_count": 14,
      "outputs": [
        {
          "output_type": "execute_result",
          "data": {
            "text/plain": [
              "array(['85', '80', '86', '', '45', '74', '67', '70', '46', '47', '34',\n",
              "       '65', '57', '40', '44', '52', '62', '69', '78', '56', '42', '41',\n",
              "       '38', '68', '50', '49', '75', '25', '51', '72', '24', '73', '54',\n",
              "       '32', '23', '55', '63', '36', '61', '29', '53', '60', '71', '58',\n",
              "       '77', '64', '66', '27', '22', '37', '20', '30', '1', '48', '76',\n",
              "       '59', '35', '26', '13', '14', '33', '8', '92', '18', '31', '95'],\n",
              "      dtype=object)"
            ]
          },
          "metadata": {
            "tags": []
          },
          "execution_count": 14
        }
      ]
    },
    {
      "cell_type": "code",
      "metadata": {
        "id": "uMQRQ3-oM9b5",
        "colab_type": "code",
        "colab": {
          "base_uri": "https://localhost:8080/",
          "height": 221
        },
        "outputId": "8b4de65f-ccda-413b-da7f-c8c7c040c3d6"
      },
      "source": [
        "nested_full.agebracket.value_counts()\n",
        "nested_full.agebracket.value_counts(normalize=True)  # The result means 89% of the cases don't have age <facepalm>"
      ],
      "execution_count": 46,
      "outputs": [
        {
          "output_type": "execute_result",
          "data": {
            "text/plain": [
              "      0.890742\n",
              "65    0.007898\n",
              "55    0.005704\n",
              "52    0.004827\n",
              "60    0.003949\n",
              "        ...   \n",
              "92    0.000439\n",
              "74    0.000439\n",
              "8     0.000439\n",
              "31    0.000439\n",
              "30    0.000439\n",
              "Name: agebracket, Length: 66, dtype: float64"
            ]
          },
          "metadata": {
            "tags": []
          },
          "execution_count": 46
        }
      ]
    },
    {
      "cell_type": "code",
      "metadata": {
        "id": "oWtrqmpjuufF",
        "colab_type": "code",
        "colab": {
          "base_uri": "https://localhost:8080/",
          "height": 34
        },
        "outputId": "3a3ff2c6-9df4-4fda-8a3c-8efd329e1411"
      },
      "source": [
        "# Just to learn\n",
        "nested_full.agebracket.value_counts()['65']  #gives you count of occurances where the value of agebracket is '65'."
      ],
      "execution_count": 58,
      "outputs": [
        {
          "output_type": "execute_result",
          "data": {
            "text/plain": [
              "18"
            ]
          },
          "metadata": {
            "tags": []
          },
          "execution_count": 58
        }
      ]
    },
    {
      "cell_type": "code",
      "metadata": {
        "id": "4RYyI6R-xIyi",
        "colab_type": "code",
        "colab": {}
      },
      "source": [
        "# Two more columns need to change their datatypes. Age and Date.\n",
        "\n",
        "nested_full.agebracket = nested_full.agebracket.astype('int32')\n",
        "\n",
        "# Just to learn\n",
        "# The instances where value is blank space, is where the error is occuring.\n",
        "# One possible option is to convert all the blank spaces to Nan and then try Int64 instead of int64 (source: https://pandas.pydata.org/pandas-docs/stable/user_guide/integer_na.html#integer-na)"
      ],
      "execution_count": 0,
      "outputs": []
    },
    {
      "cell_type": "code",
      "metadata": {
        "id": "8JXPOoUkxbWg",
        "colab_type": "code",
        "colab": {
          "base_uri": "https://localhost:8080/",
          "height": 221
        },
        "outputId": "2f18c943-93ba-4291-c542-670004137a26"
      },
      "source": [
        "# But this throws an error as the blank spaces can't be converted to int.\n",
        "#Let's see how to handle them.\n",
        "#nested_full.agebracket.replace(to_replace='',value=Nan)  #wait I found a better method\n",
        "print(nested_full.agebracket.replace(r'^\\s*$', np.nan, regex=True))"
      ],
      "execution_count": 60,
      "outputs": [
        {
          "output_type": "stream",
          "text": [
            "0        85\n",
            "1        80\n",
            "2        86\n",
            "3       NaN\n",
            "4       NaN\n",
            "       ... \n",
            "2274    NaN\n",
            "2275    NaN\n",
            "2276    NaN\n",
            "2277    NaN\n",
            "2278    NaN\n",
            "Name: agebracket, Length: 2279, dtype: object\n"
          ],
          "name": "stdout"
        }
      ]
    },
    {
      "cell_type": "code",
      "metadata": {
        "id": "JqBkRV4F0Uvc",
        "colab_type": "code",
        "colab": {
          "base_uri": "https://localhost:8080/",
          "height": 221
        },
        "outputId": "251adac4-de86-488f-8fd0-8427c7943216"
      },
      "source": [
        "nested_full.agebracket = nested_full.agebracket.replace(r'^\\s*$', np.nan, regex=True)\n",
        "nested_full.agebracket.value_counts(normalize=True)\n"
      ],
      "execution_count": 64,
      "outputs": [
        {
          "output_type": "execute_result",
          "data": {
            "text/plain": [
              "65    0.072289\n",
              "55    0.052209\n",
              "52    0.044177\n",
              "60    0.036145\n",
              "45    0.036145\n",
              "        ...   \n",
              "30    0.004016\n",
              "77    0.004016\n",
              "18    0.004016\n",
              "31    0.004016\n",
              "95    0.004016\n",
              "Name: agebracket, Length: 65, dtype: float64"
            ]
          },
          "metadata": {
            "tags": []
          },
          "execution_count": 64
        }
      ]
    },
    {
      "cell_type": "code",
      "metadata": {
        "id": "Bl_QSi830mCC",
        "colab_type": "code",
        "colab": {
          "base_uri": "https://localhost:8080/",
          "height": 85
        },
        "outputId": "7ad41bd6-8e2f-4f14-e089-769789a83048"
      },
      "source": [
        "a = (nested_full.agebracket.isna()).sum()  # number of nulls for age\n",
        "b = (nested_full.agebracket.notna()).sum()  # number of available values for age\n",
        "b/(a+b)  # only 10.9% data is available for this age column\n",
        "\n",
        "(nested_full.isna()).sum()  # but most of the unavailable value is blank and not null, so let's see.\n",
        "nested_full.date.value_counts()[''] \n",
        "nested_full.columns"
      ],
      "execution_count": 32,
      "outputs": [
        {
          "output_type": "execute_result",
          "data": {
            "text/plain": [
              "Index(['agebracket', 'city', 'date', 'district', 'gender', 'nationality',\n",
              "       'notes', 'patientnumbercouldbemappedlater', 'patientstatus', 'slno',\n",
              "       'source1', 'source2', 'source3', 'state', 'statecode'],\n",
              "      dtype='object')"
            ]
          },
          "metadata": {
            "tags": []
          },
          "execution_count": 32
        }
      ]
    },
    {
      "cell_type": "markdown",
      "metadata": {
        "id": "4WkZdN_BbFRk",
        "colab_type": "text"
      },
      "source": [
        "#Important Note\n",
        "Output of the next few cells gives a decent picture"
      ]
    },
    {
      "cell_type": "code",
      "metadata": {
        "id": "9UQA4Mrn2iM6",
        "colab_type": "code",
        "colab": {
          "base_uri": "https://localhost:8080/",
          "height": 1000
        },
        "outputId": "d0267fe7-a84d-4f7e-a4c6-c7bfbdb09ddb"
      },
      "source": [
        "#nested_full.agebracket = nested_full.replace(r'^\\s*$', np.nan, regex=True)\n",
        "nested_deceased = nested_full[nested_full.patientstatus =='Deceased']\n",
        "\n",
        "for col in nested_full.columns:\n",
        " print(\"For \" + str(col))\n",
        " print(nested_full[col].value_counts())\n",
        "  \n",
        "\n"
      ],
      "execution_count": 70,
      "outputs": [
        {
          "output_type": "stream",
          "text": [
            "For agebracket\n",
            "      2166\n",
            "65      18\n",
            "55      13\n",
            "52      11\n",
            "60       9\n",
            "      ... \n",
            "92       1\n",
            "30       1\n",
            "77       1\n",
            "8        1\n",
            "14       1\n",
            "Name: agebracket, Length: 66, dtype: int64\n",
            "For city\n",
            "                    2289\n",
            "Mumbai                20\n",
            "Indore                14\n",
            "Pune                  10\n",
            "Pimpri-Chinchwad       9\n",
            "Hyderabad              7\n",
            "Ahmadabad              5\n",
            "Chennai                4\n",
            "Dharavi                2\n",
            "Kalyan-Dombivli        2\n",
            "Ludhiana               2\n",
            "Bhubaneswar            2\n",
            "Bhavnagar              2\n",
            "Palghar                2\n",
            "Bengaluru              2\n",
            "Thagarapuvalasa        2\n",
            "Vijayawada             2\n",
            "Surat                  2\n",
            "Ujjain                 2\n",
            "Belghoria              1\n",
            "Bikaner                1\n",
            "Bagalkote              1\n",
            "Chandigarh             1\n",
            "Bhatkal                1\n",
            "Baddi                  1\n",
            "Chhindwara             1\n",
            "Aurangabad             1\n",
            "Dachepalli             1\n",
            "Armpora Sopore         1\n",
            "Agra                   1\n",
            "Girgaon                1\n",
            "Dum Dum                1\n",
            "Ghatkopar              1\n",
            "chatamli               1\n",
            "Godhra                 1\n",
            "Nellore                1\n",
            "Vijayapura             1\n",
            "Vasai                  1\n",
            "Varanasi               1\n",
            "Vadodara               1\n",
            "Ultadanga              1\n",
            "Theni                  1\n",
            "Thane                  1\n",
            "Salkia                 1\n",
            "Navi Mumbai            1\n",
            "Golabari               1\n",
            "Narasaraopet           1\n",
            "Nandyal                1\n",
            "Meerut                 1\n",
            "Machilipatnam          1\n",
            "Kalyandurg             1\n",
            "Viluppuram             1\n",
            "Jharpada               1\n",
            "Gorakhpur              1\n",
            "Kalimpong              1\n",
            "Name: city, dtype: int64\n",
            "For date\n",
            "16/04/2020    285\n",
            "11/04/2020    227\n",
            "14/04/2020    204\n",
            "10/04/2020    173\n",
            "15/04/2020    171\n",
            "12/04/2020    156\n",
            "13/04/2020    139\n",
            "29/03/2020    119\n",
            "08/04/2020    116\n",
            "09/04/2020    116\n",
            "              103\n",
            "07/04/2020    102\n",
            "17/04/2020     93\n",
            "06/04/2020     81\n",
            "04/04/2020     69\n",
            "05/04/2020     65\n",
            "30/03/2020     55\n",
            "03/04/2020     53\n",
            "02/04/2020     33\n",
            "31/03/2020     26\n",
            "01/04/2020     22\n",
            "27/03/2020      3\n",
            "24/03/2020      2\n",
            "13/03/2020      1\n",
            "20/03/2020      1\n",
            "26/03/2020      1\n",
            "Name: date, dtype: int64\n",
            "For district\n",
            "               1596\n",
            "Mumbai          122\n",
            "Kasaragod       102\n",
            "Pune             50\n",
            "Kannur           36\n",
            "               ... \n",
            "Nashik            1\n",
            "Gir Somnath       1\n",
            "Kurnool           1\n",
            "Shamli            1\n",
            "Kheri             1\n",
            "Name: district, Length: 147, dtype: int64\n",
            "For gender\n",
            "     2158\n",
            "M     176\n",
            "F      82\n",
            "Name: gender, dtype: int64\n",
            "For nationality\n",
            "         2400\n",
            "Italy      14\n",
            "India       2\n",
            "Name: nationality, dtype: int64\n",
            "For notes\n",
            "                                         1678\n",
            "Details awaited                           401\n",
            "As per http://www.rajswasthya.nic.in/      22\n",
            "Patient ID unknown                         10\n",
            "Details awaited; Date TBD                   9\n",
            "                                         ... \n",
            "P314                                        1\n",
            "KA-P7                                       1\n",
            "Total 17 as of 30 Mar                       1\n",
            "14 Mumbai                                   1\n",
            "Had HTN and DM                              1\n",
            "Name: notes, Length: 277, dtype: int64\n",
            "For patientnumbercouldbemappedlater\n",
            "        2356\n",
            "43         1\n",
            "P56        1\n",
            "P150       1\n",
            "P463       1\n",
            "        ... \n",
            "P758       1\n",
            "P474       1\n",
            "177        1\n",
            "P57        1\n",
            "P109       1\n",
            "Name: patientnumbercouldbemappedlater, Length: 61, dtype: int64\n",
            "For patientstatus\n",
            "Recovered    1955\n",
            "Deceased      457\n",
            "Deceased#       4\n",
            "Name: patientstatus, dtype: int64\n",
            "For slno\n",
            "1780    1\n",
            "1746    1\n",
            "916     1\n",
            "445     1\n",
            "869     1\n",
            "       ..\n",
            "1168    1\n",
            "200     1\n",
            "1638    1\n",
            "1586    1\n",
            "1110    1\n",
            "Name: slno, Length: 2416, dtype: int64\n",
            "For source1\n",
            "                                                                                                                                 409\n",
            "http://www.rajswasthya.nic.in/                                                                                                   131\n",
            "https://stopcorona.tn.gov.in/wp-content/uploads/2020/03/Media-Bulletin-17.04.2020.pdf                                            103\n",
            "Opening Data as of Mar 29                                                                                                         89\n",
            "https://twitter.com/Eatala_Rajender/status/1250795782711570437                                                                    66\n",
            "                                                                                                                                ... \n",
            "https://twitter.com/DHFWKA/status/1249965114796769280?s=20                                                                         1\n",
            "https://www.telegraphindia.com/states/west-bengal/north-bengals-first-covid-patient-dies/cid/1760636?ref=also-read_story-page      1\n",
            "https://stopcorona.tn.gov.in/wp-content/uploads/2020/03/Media-Bulletin-12.04.2020-5-pages-English-178-KB.pdf                       1\n",
            "http://www.cghealth.nic.in/cghealth17/                                                                                             1\n",
            "https://www.thehindubusinessline.com/news/first-covid-19-death-in-telangana-6-more-positive-cases/article31193722.ece              1\n",
            "Name: source1, Length: 349, dtype: int64\n",
            "For source2\n",
            "                                                                                                                                             2218\n",
            "https://twitter.com/TabeenahAnjum/status/1250091698878726144                                                                                   14\n",
            "https://arogya.maharashtra.gov.in/pdf/covidepressnote06.pdf                                                                                    14\n",
            "P                                                                                                                                              10\n",
            "https://arogya.maharashtra.gov.in/pdf/covidepressnote08.pdf                                                                                     8\n",
            "                                                                                                                                             ... \n",
            "P228                                                                                                                                            1\n",
            "https://www.indiatoday.in/india/story/coronavirus-in-mumbai-47-new-covid-19-cases-in-city-as-private-lab-data-pours-in-1661482-2020-03-30       1\n",
            "P1261                                                                                                                                           1\n",
            "https://indianexpress.com/article/cities/ahmedabad/gujarat-14-month-old-baby-who-contracted-coronavirus-dies-6352180/                           1\n",
            "P701                                                                                                                                            1\n",
            "Name: source2, Length: 90, dtype: int64\n",
            "For source3\n",
            "                                                                                                                                                      2401\n",
            "https://twitter.com/ANI/status/1250813598651174913                                                                                                       5\n",
            "https://www.newindianexpress.com/states/tamil-nadu/2020/apr/15/two-men-die-of-covid-19-in-tamil-nadu-toll-now-14-1242-people-infected-2130568.html       2\n",
            "https://dashboard.kerala.gov.in/                                                                                                                         1\n",
            "https://nenow.in/health/shillong-doctor-meghalayas-first-covid-19-casualty.html                                                                          1\n",
            "https://www.indiatvnews.com/news/india/gujarat-coronavirus-positive-cases-covid-19-death-toll-604280                                                     1\n",
            "https://www.deccanherald.com/national/east-and-northeast/covid-19-death-toll-rises-to-4-in-bengal-total-cases-32-819857.html                             1\n",
            "https://t.me/indiacovid/1283                                                                                                                             1\n",
            "https://www.telegraphindia.com/states/west-bengal/2-more-coronavirus-deaths-in-bengal/cid/1760980                                                        1\n",
            "https://www.hindustantimes.com/cities/2-800-rasin-villagers-living-in-fear-after-karnal-man-succumbs-to-covid-19/story-6gUwpa1cCFBxKfPZKqhHbI.html       1\n",
            "https://www.thehindu.com/news/national/kerala/covid-19-kerala-records-second-death/article31214404.ece                                                   1\n",
            "Name: source3, dtype: int64\n",
            "For state\n",
            "Maharashtra                    494\n",
            "Tamil Nadu                     298\n",
            "Kerala                         257\n",
            "Telangana                      205\n",
            "Rajasthan                      200\n",
            "Madhya Pradesh                 125\n",
            "Gujarat                        112\n",
            "Karnataka                      101\n",
            "Delhi                           90\n",
            "Uttar Pradesh                   87\n",
            "Haryana                         85\n",
            "West Bengal                     64\n",
            "Andhra Pradesh                  49\n",
            "Punjab                          44\n",
            "Jammu and Kashmir               43\n",
            "Bihar                           38\n",
            "Chhattisgarh                    23\n",
            "Odisha                          20\n",
            "Himachal Pradesh                18\n",
            "Ladakh                          14\n",
            "Andaman and Nicobar Islands     11\n",
            "Chandigarh                       9\n",
            "Uttarakhand                      9\n",
            "Goa                              6\n",
            "Assam                            6\n",
            "Jharkhand                        2\n",
            "Puducherry                       1\n",
            "Meghalaya                        1\n",
            "Tripura                          1\n",
            "Arunachal Pradesh                1\n",
            "Kerala/Puducherry?               1\n",
            "Manipur                          1\n",
            "Name: state, dtype: int64\n",
            "For statecode\n",
            "MH    493\n",
            "TN    298\n",
            "KL    257\n",
            "TG    205\n",
            "RJ    200\n",
            "MP    126\n",
            "GJ    112\n",
            "KA    101\n",
            "DL     90\n",
            "UP     87\n",
            "HR     85\n",
            "WB     64\n",
            "AP     49\n",
            "PB     44\n",
            "JK     43\n",
            "BR     38\n",
            "CT     23\n",
            "OR     20\n",
            "HP     18\n",
            "LA     14\n",
            "AN     11\n",
            "UT      9\n",
            "CH      9\n",
            "GA      6\n",
            "AS      6\n",
            "JH      2\n",
            "AR      1\n",
            "ML      1\n",
            "TR      1\n",
            "MN      1\n",
            "PY      1\n",
            "        1\n",
            "Name: statecode, dtype: int64\n"
          ],
          "name": "stdout"
        }
      ]
    },
    {
      "cell_type": "code",
      "metadata": {
        "id": "mmLPlwCxXUkM",
        "colab_type": "code",
        "colab": {
          "base_uri": "https://localhost:8080/",
          "height": 749
        },
        "outputId": "ffa9aafc-195a-451f-94c8-551bddbc8c03"
      },
      "source": [
        "#nested_full.agebracket = nested_full.replace(r'^\\s*$', np.nan, regex=True)\n",
        "nested_deceased = nested_full[nested_full.patientstatus =='Deceased']\n",
        "\n",
        "for col in nested_full.columns:\n",
        " print(\"For \" + str(col))\n",
        " print(nested_deceased[col].value_counts())\n",
        "  # print(\"For \" + str(col))\n",
        "  # print(nested_deceased[col].value_counts()[''])\n",
        "  \n"
      ],
      "execution_count": 53,
      "outputs": [
        {
          "output_type": "stream",
          "text": [
            "For agebracket\n"
          ],
          "name": "stdout"
        },
        {
          "output_type": "error",
          "ename": "KeyError",
          "evalue": "ignored",
          "traceback": [
            "\u001b[0;31m---------------------------------------------------------------------------\u001b[0m",
            "\u001b[0;31mTypeError\u001b[0m                                 Traceback (most recent call last)",
            "\u001b[0;32m/usr/local/lib/python3.6/dist-packages/pandas/core/indexes/base.py\u001b[0m in \u001b[0;36mget_value\u001b[0;34m(self, series, key)\u001b[0m\n\u001b[1;32m   4409\u001b[0m             \u001b[0;32mtry\u001b[0m\u001b[0;34m:\u001b[0m\u001b[0;34m\u001b[0m\u001b[0;34m\u001b[0m\u001b[0m\n\u001b[0;32m-> 4410\u001b[0;31m                 \u001b[0;32mreturn\u001b[0m \u001b[0mlibindex\u001b[0m\u001b[0;34m.\u001b[0m\u001b[0mget_value_at\u001b[0m\u001b[0;34m(\u001b[0m\u001b[0ms\u001b[0m\u001b[0;34m,\u001b[0m \u001b[0mkey\u001b[0m\u001b[0;34m)\u001b[0m\u001b[0;34m\u001b[0m\u001b[0;34m\u001b[0m\u001b[0m\n\u001b[0m\u001b[1;32m   4411\u001b[0m             \u001b[0;32mexcept\u001b[0m \u001b[0mIndexError\u001b[0m\u001b[0;34m:\u001b[0m\u001b[0;34m\u001b[0m\u001b[0;34m\u001b[0m\u001b[0m\n",
            "\u001b[0;32mpandas/_libs/index.pyx\u001b[0m in \u001b[0;36mpandas._libs.index.get_value_at\u001b[0;34m()\u001b[0m\n",
            "\u001b[0;32mpandas/_libs/index.pyx\u001b[0m in \u001b[0;36mpandas._libs.index.get_value_at\u001b[0;34m()\u001b[0m\n",
            "\u001b[0;32mpandas/_libs/util.pxd\u001b[0m in \u001b[0;36mpandas._libs.util.get_value_at\u001b[0;34m()\u001b[0m\n",
            "\u001b[0;32mpandas/_libs/util.pxd\u001b[0m in \u001b[0;36mpandas._libs.util.validate_indexer\u001b[0;34m()\u001b[0m\n",
            "\u001b[0;31mTypeError\u001b[0m: 'str' object cannot be interpreted as an integer",
            "\nDuring handling of the above exception, another exception occurred:\n",
            "\u001b[0;31mKeyError\u001b[0m                                  Traceback (most recent call last)",
            "\u001b[0;32m<ipython-input-53-f9d1b2b326ca>\u001b[0m in \u001b[0;36m<module>\u001b[0;34m()\u001b[0m\n\u001b[1;32m      3\u001b[0m \u001b[0;32mfor\u001b[0m \u001b[0mcol\u001b[0m \u001b[0;32min\u001b[0m \u001b[0mnested_full\u001b[0m\u001b[0;34m.\u001b[0m\u001b[0mcolumns\u001b[0m\u001b[0;34m:\u001b[0m\u001b[0;34m\u001b[0m\u001b[0;34m\u001b[0m\u001b[0m\n\u001b[1;32m      4\u001b[0m  \u001b[0mprint\u001b[0m\u001b[0;34m(\u001b[0m\u001b[0;34m\"For \"\u001b[0m \u001b[0;34m+\u001b[0m \u001b[0mstr\u001b[0m\u001b[0;34m(\u001b[0m\u001b[0mcol\u001b[0m\u001b[0;34m)\u001b[0m\u001b[0;34m)\u001b[0m\u001b[0;34m\u001b[0m\u001b[0;34m\u001b[0m\u001b[0m\n\u001b[0;32m----> 5\u001b[0;31m  \u001b[0mprint\u001b[0m\u001b[0;34m(\u001b[0m\u001b[0mnested_deceased\u001b[0m\u001b[0;34m[\u001b[0m\u001b[0mcol\u001b[0m\u001b[0;34m]\u001b[0m\u001b[0;34m.\u001b[0m\u001b[0mvalue_counts\u001b[0m\u001b[0;34m(\u001b[0m\u001b[0;34m)\u001b[0m\u001b[0;34m[\u001b[0m\u001b[0;34m'Leh'\u001b[0m\u001b[0;34m]\u001b[0m\u001b[0;34m)\u001b[0m\u001b[0;34m\u001b[0m\u001b[0;34m\u001b[0m\u001b[0m\n\u001b[0m\u001b[1;32m      6\u001b[0m   \u001b[0;31m# print(\"For \" + str(col))\u001b[0m\u001b[0;34m\u001b[0m\u001b[0;34m\u001b[0m\u001b[0;34m\u001b[0m\u001b[0m\n\u001b[1;32m      7\u001b[0m   \u001b[0;31m# print(nested_deceased[col].value_counts()[''])\u001b[0m\u001b[0;34m\u001b[0m\u001b[0;34m\u001b[0m\u001b[0;34m\u001b[0m\u001b[0m\n",
            "\u001b[0;32m/usr/local/lib/python3.6/dist-packages/pandas/core/series.py\u001b[0m in \u001b[0;36m__getitem__\u001b[0;34m(self, key)\u001b[0m\n\u001b[1;32m    869\u001b[0m         \u001b[0mkey\u001b[0m \u001b[0;34m=\u001b[0m \u001b[0mcom\u001b[0m\u001b[0;34m.\u001b[0m\u001b[0mapply_if_callable\u001b[0m\u001b[0;34m(\u001b[0m\u001b[0mkey\u001b[0m\u001b[0;34m,\u001b[0m \u001b[0mself\u001b[0m\u001b[0;34m)\u001b[0m\u001b[0;34m\u001b[0m\u001b[0;34m\u001b[0m\u001b[0m\n\u001b[1;32m    870\u001b[0m         \u001b[0;32mtry\u001b[0m\u001b[0;34m:\u001b[0m\u001b[0;34m\u001b[0m\u001b[0;34m\u001b[0m\u001b[0m\n\u001b[0;32m--> 871\u001b[0;31m             \u001b[0mresult\u001b[0m \u001b[0;34m=\u001b[0m \u001b[0mself\u001b[0m\u001b[0;34m.\u001b[0m\u001b[0mindex\u001b[0m\u001b[0;34m.\u001b[0m\u001b[0mget_value\u001b[0m\u001b[0;34m(\u001b[0m\u001b[0mself\u001b[0m\u001b[0;34m,\u001b[0m \u001b[0mkey\u001b[0m\u001b[0;34m)\u001b[0m\u001b[0;34m\u001b[0m\u001b[0;34m\u001b[0m\u001b[0m\n\u001b[0m\u001b[1;32m    872\u001b[0m \u001b[0;34m\u001b[0m\u001b[0m\n\u001b[1;32m    873\u001b[0m             \u001b[0;32mif\u001b[0m \u001b[0;32mnot\u001b[0m \u001b[0mis_scalar\u001b[0m\u001b[0;34m(\u001b[0m\u001b[0mresult\u001b[0m\u001b[0;34m)\u001b[0m\u001b[0;34m:\u001b[0m\u001b[0;34m\u001b[0m\u001b[0;34m\u001b[0m\u001b[0m\n",
            "\u001b[0;32m/usr/local/lib/python3.6/dist-packages/pandas/core/indexes/base.py\u001b[0m in \u001b[0;36mget_value\u001b[0;34m(self, series, key)\u001b[0m\n\u001b[1;32m   4416\u001b[0m                     \u001b[0;32mraise\u001b[0m \u001b[0mInvalidIndexError\u001b[0m\u001b[0;34m(\u001b[0m\u001b[0mkey\u001b[0m\u001b[0;34m)\u001b[0m\u001b[0;34m\u001b[0m\u001b[0;34m\u001b[0m\u001b[0m\n\u001b[1;32m   4417\u001b[0m                 \u001b[0;32melse\u001b[0m\u001b[0;34m:\u001b[0m\u001b[0;34m\u001b[0m\u001b[0;34m\u001b[0m\u001b[0m\n\u001b[0;32m-> 4418\u001b[0;31m                     \u001b[0;32mraise\u001b[0m \u001b[0me1\u001b[0m\u001b[0;34m\u001b[0m\u001b[0;34m\u001b[0m\u001b[0m\n\u001b[0m\u001b[1;32m   4419\u001b[0m             \u001b[0;32mexcept\u001b[0m \u001b[0mException\u001b[0m\u001b[0;34m:\u001b[0m\u001b[0;34m\u001b[0m\u001b[0;34m\u001b[0m\u001b[0m\n\u001b[1;32m   4420\u001b[0m                 \u001b[0;32mraise\u001b[0m \u001b[0me1\u001b[0m\u001b[0;34m\u001b[0m\u001b[0;34m\u001b[0m\u001b[0m\n",
            "\u001b[0;32m/usr/local/lib/python3.6/dist-packages/pandas/core/indexes/base.py\u001b[0m in \u001b[0;36mget_value\u001b[0;34m(self, series, key)\u001b[0m\n\u001b[1;32m   4402\u001b[0m         \u001b[0mk\u001b[0m \u001b[0;34m=\u001b[0m \u001b[0mself\u001b[0m\u001b[0;34m.\u001b[0m\u001b[0m_convert_scalar_indexer\u001b[0m\u001b[0;34m(\u001b[0m\u001b[0mk\u001b[0m\u001b[0;34m,\u001b[0m \u001b[0mkind\u001b[0m\u001b[0;34m=\u001b[0m\u001b[0;34m\"getitem\"\u001b[0m\u001b[0;34m)\u001b[0m\u001b[0;34m\u001b[0m\u001b[0;34m\u001b[0m\u001b[0m\n\u001b[1;32m   4403\u001b[0m         \u001b[0;32mtry\u001b[0m\u001b[0;34m:\u001b[0m\u001b[0;34m\u001b[0m\u001b[0;34m\u001b[0m\u001b[0m\n\u001b[0;32m-> 4404\u001b[0;31m             \u001b[0;32mreturn\u001b[0m \u001b[0mself\u001b[0m\u001b[0;34m.\u001b[0m\u001b[0m_engine\u001b[0m\u001b[0;34m.\u001b[0m\u001b[0mget_value\u001b[0m\u001b[0;34m(\u001b[0m\u001b[0ms\u001b[0m\u001b[0;34m,\u001b[0m \u001b[0mk\u001b[0m\u001b[0;34m,\u001b[0m \u001b[0mtz\u001b[0m\u001b[0;34m=\u001b[0m\u001b[0mgetattr\u001b[0m\u001b[0;34m(\u001b[0m\u001b[0mseries\u001b[0m\u001b[0;34m.\u001b[0m\u001b[0mdtype\u001b[0m\u001b[0;34m,\u001b[0m \u001b[0;34m\"tz\"\u001b[0m\u001b[0;34m,\u001b[0m \u001b[0;32mNone\u001b[0m\u001b[0;34m)\u001b[0m\u001b[0;34m)\u001b[0m\u001b[0;34m\u001b[0m\u001b[0;34m\u001b[0m\u001b[0m\n\u001b[0m\u001b[1;32m   4405\u001b[0m         \u001b[0;32mexcept\u001b[0m \u001b[0mKeyError\u001b[0m \u001b[0;32mas\u001b[0m \u001b[0me1\u001b[0m\u001b[0;34m:\u001b[0m\u001b[0;34m\u001b[0m\u001b[0;34m\u001b[0m\u001b[0m\n\u001b[1;32m   4406\u001b[0m             \u001b[0;32mif\u001b[0m \u001b[0mlen\u001b[0m\u001b[0;34m(\u001b[0m\u001b[0mself\u001b[0m\u001b[0;34m)\u001b[0m \u001b[0;34m>\u001b[0m \u001b[0;36m0\u001b[0m \u001b[0;32mand\u001b[0m \u001b[0;34m(\u001b[0m\u001b[0mself\u001b[0m\u001b[0;34m.\u001b[0m\u001b[0mholds_integer\u001b[0m\u001b[0;34m(\u001b[0m\u001b[0;34m)\u001b[0m \u001b[0;32mor\u001b[0m \u001b[0mself\u001b[0m\u001b[0;34m.\u001b[0m\u001b[0mis_boolean\u001b[0m\u001b[0;34m(\u001b[0m\u001b[0;34m)\u001b[0m\u001b[0;34m)\u001b[0m\u001b[0;34m:\u001b[0m\u001b[0;34m\u001b[0m\u001b[0;34m\u001b[0m\u001b[0m\n",
            "\u001b[0;32mpandas/_libs/index.pyx\u001b[0m in \u001b[0;36mpandas._libs.index.IndexEngine.get_value\u001b[0;34m()\u001b[0m\n",
            "\u001b[0;32mpandas/_libs/index.pyx\u001b[0m in \u001b[0;36mpandas._libs.index.IndexEngine.get_value\u001b[0;34m()\u001b[0m\n",
            "\u001b[0;32mpandas/_libs/index.pyx\u001b[0m in \u001b[0;36mpandas._libs.index.IndexEngine.get_loc\u001b[0;34m()\u001b[0m\n",
            "\u001b[0;32mpandas/_libs/hashtable_class_helper.pxi\u001b[0m in \u001b[0;36mpandas._libs.hashtable.PyObjectHashTable.get_item\u001b[0;34m()\u001b[0m\n",
            "\u001b[0;32mpandas/_libs/hashtable_class_helper.pxi\u001b[0m in \u001b[0;36mpandas._libs.hashtable.PyObjectHashTable.get_item\u001b[0;34m()\u001b[0m\n",
            "\u001b[0;31mKeyError\u001b[0m: 'Leh'"
          ]
        }
      ]
    },
    {
      "cell_type": "code",
      "metadata": {
        "id": "i1IADhVeYjgz",
        "colab_type": "code",
        "colab": {}
      },
      "source": [
        ""
      ],
      "execution_count": 0,
      "outputs": []
    },
    {
      "cell_type": "code",
      "metadata": {
        "id": "mxLYrS57cPeK",
        "colab_type": "code",
        "colab": {
          "base_uri": "https://localhost:8080/",
          "height": 34
        },
        "outputId": "4a2833de-09d2-49e2-d88c-eec68012fa06"
      },
      "source": [
        "nested_full.shape[0]"
      ],
      "execution_count": 68,
      "outputs": [
        {
          "output_type": "execute_result",
          "data": {
            "text/plain": [
              "2416"
            ]
          },
          "metadata": {
            "tags": []
          },
          "execution_count": 68
        }
      ]
    },
    {
      "cell_type": "code",
      "metadata": {
        "id": "qYtAJ9o7llzu",
        "colab_type": "code",
        "colab": {}
      },
      "source": [
        ""
      ],
      "execution_count": 0,
      "outputs": []
    }
  ]
}